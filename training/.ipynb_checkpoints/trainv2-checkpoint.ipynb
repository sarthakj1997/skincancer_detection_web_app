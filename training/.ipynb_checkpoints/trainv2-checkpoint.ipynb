{
 "cells": [
  {
   "cell_type": "code",
   "execution_count": 1,
   "metadata": {},
   "outputs": [],
   "source": [
    "import os\n",
    "import shutil\n",
    "import pandas as pd\n",
    "from sklearn.preprocessing import LabelEncoder\n",
    "from sklearn.model_selection import train_test_split\n",
    "from sklearn.utils import resample\n",
    "from tensorflow.keras.preprocessing.image import ImageDataGenerator\n",
    "from tensorflow.keras.models import Sequential\n",
    "from tensorflow.keras.layers import Conv2D, MaxPooling2D, Flatten, Dense, Dropout\n",
    "import numpy as np\n",
    "from tensorflow.keras.callbacks import EarlyStopping\n",
    "from tensorflow.keras.optimizers import Adam\n",
    "import tensorflow as tf"
   ]
  },
  {
   "cell_type": "code",
   "execution_count": 2,
   "metadata": {},
   "outputs": [],
   "source": [
    "image_path1 = r'.\\data\\HAM10000_images_part_1'\n",
    "image_path2 = r'.\\data\\HAM10000_images_part_2'\n",
    "\n",
    "# Directory for the final combined images\n",
    "final_image_dataset = './data/skin-cancer-mnist-ham10000_combined'"
   ]
  },
  {
   "cell_type": "code",
   "execution_count": 3,
   "metadata": {},
   "outputs": [
    {
     "name": "stdout",
     "output_type": "stream",
     "text": [
      "c:\\Users\\Sarthak\\Documents\\GitHub\\skincancer\n"
     ]
    }
   ],
   "source": [
    "%cd ../"
   ]
  },
  {
   "cell_type": "code",
   "execution_count": 4,
   "metadata": {},
   "outputs": [],
   "source": [
    "metadata_path = './data/HAM10000_metadata.csv'\n",
    "meta_data = pd.read_csv(metadata_path)\n",
    "\n",
    "# Add a new column for the image paths in the combined folder\n",
    "meta_data['Image_path'] = meta_data['image_id'].apply(lambda x: os.path.join(final_image_dataset, f\"{x}.jpg\"))\n",
    "\n",
    "# Initialize and fit LabelEncoder\n",
    "le = LabelEncoder()\n",
    "meta_data['label'] = le.fit_transform(meta_data[\"dx\"])\n",
    "\n",
    "# Convert labels to string format\n",
    "meta_data['label'] = meta_data['label'].astype(str)\n",
    "\n",
    "# Resample to balance the dataset\n",
    "n_samples = 4500 # Maximum count of the 'nv' class\n",
    "\n",
    "# Separate each class\n",
    "df_nv = meta_data[meta_data['dx'] == 'nv']\n",
    "df_mel = meta_data[meta_data['dx'] == 'mel']\n",
    "df_bkl = meta_data[meta_data['dx'] == 'bkl']\n",
    "df_bcc = meta_data[meta_data['dx'] == 'bcc']\n",
    "df_akiec = meta_data[meta_data['dx'] == 'akiec']\n",
    "df_vasc = meta_data[meta_data['dx'] == 'vasc']\n",
    "df_df = meta_data[meta_data['dx'] == 'df']"
   ]
  },
  {
   "cell_type": "code",
   "execution_count": 5,
   "metadata": {},
   "outputs": [],
   "source": [
    "df_nv_balanced = resample(df_nv, replace=False, n_samples=n_samples, random_state=42)\n",
    "df_mel_balanced = resample(df_mel, replace=True, n_samples=n_samples, random_state=42)\n",
    "df_bkl_balanced = resample(df_bkl, replace=True, n_samples=n_samples, random_state=42)\n",
    "df_bcc_balanced = resample(df_bcc, replace=True, n_samples=n_samples, random_state=42)\n",
    "df_akiec_balanced = resample(df_akiec, replace=True, n_samples=n_samples, random_state=42)\n",
    "df_vasc_balanced = resample(df_vasc, replace=True, n_samples=n_samples, random_state=42)\n",
    "df_df_balanced = resample(df_df, replace=True, n_samples=n_samples, random_state=42)"
   ]
  },
  {
   "cell_type": "code",
   "execution_count": 6,
   "metadata": {},
   "outputs": [
    {
     "name": "stdout",
     "output_type": "stream",
     "text": [
      "dx\n",
      "Melanocytic Nevus       4500\n",
      "Melanoma                4500\n",
      "Benign Keratosis        4500\n",
      "Basal Cell Carcinoma    4500\n",
      "Actinic Keratosis       4500\n",
      "Vascular Lesion         4500\n",
      "Dermatofibroma          4500\n",
      "Name: count, dtype: int64\n",
      "Balanced dataset class distribution:\n",
      "dx\n",
      "Basal Cell Carcinoma    4500\n",
      "Melanocytic Nevus       4500\n",
      "Actinic Keratosis       4500\n",
      "Dermatofibroma          4500\n",
      "Melanoma                4500\n",
      "Vascular Lesion         4500\n",
      "Benign Keratosis        4500\n",
      "Name: count, dtype: int64\n"
     ]
    }
   ],
   "source": [
    "balanced_meta_data = pd.concat([df_nv_balanced, df_mel_balanced, df_bkl_balanced,\n",
    "                        df_bcc_balanced, df_akiec_balanced, df_vasc_balanced,\n",
    "                        df_df_balanced])\n",
    "# Mapping labels to their full names\n",
    "label_mapping = {\n",
    "'nv': 'Melanocytic Nevus',\n",
    "'mel': 'Melanoma',\n",
    "'bkl': 'Benign Keratosis',\n",
    "'bcc': 'Basal Cell Carcinoma',\n",
    "'akiec': 'Actinic Keratosis',\n",
    "'vasc': 'Vascular Lesion',\n",
    "'df': 'Dermatofibroma'\n",
    "}\n",
    "\n",
    "# Replace the labels with full names\n",
    "balanced_meta_data['dx'] = balanced_meta_data['dx'].replace(label_mapping)\n",
    "\n",
    "# Now, balanced_meta_data['dx'] will contain the full names\n",
    "print(balanced_meta_data['dx'].value_counts())\n",
    "\n",
    "# Shuffle the combined dataset\n",
    "balanced_meta_data = balanced_meta_data.sample(frac=1, random_state=42).reset_index(drop=True)\n",
    "\n",
    "print(f\"Balanced dataset class distribution:\\n{balanced_meta_data['dx'].value_counts()}\")"
   ]
  },
  {
   "cell_type": "code",
   "execution_count": 7,
   "metadata": {},
   "outputs": [
    {
     "name": "stdout",
     "output_type": "stream",
     "text": [
      "Training set size: 15435\n",
      "Validation set size: 6615\n",
      "Testing set size: 9450\n",
      "Found 15435 validated image filenames belonging to 7 classes.\n",
      "Found 6615 validated image filenames belonging to 7 classes.\n",
      "Found 9450 validated image filenames belonging to 7 classes.\n"
     ]
    }
   ],
   "source": [
    "from sklearn.model_selection import train_test_split\n",
    "from tensorflow.keras.preprocessing.image import ImageDataGenerator\n",
    "\n",
    "# Perform initial train-test split without stratification\n",
    "train_meta, test_meta = train_test_split(balanced_meta_data, test_size=0.3, random_state=42)\n",
    "train_meta, val_meta = train_test_split(train_meta, test_size=0.3, random_state=42)\n",
    "\n",
    "print(f\"Training set size: {len(train_meta)}\")\n",
    "print(f\"Validation set size: {len(val_meta)}\")\n",
    "print(f\"Testing set size: {len(test_meta)}\")\n",
    "\n",
    "# Data augmentation and preprocessing\n",
    "train_datagen = ImageDataGenerator(\n",
    "rescale=1./255,\n",
    "rotation_range=20,\n",
    "width_shift_range=0.2,\n",
    "height_shift_range=0.2,\n",
    "shear_range=0.2,\n",
    "zoom_range=0.2,\n",
    "horizontal_flip=True,\n",
    "fill_mode='nearest'\n",
    ")\n",
    "\n",
    "test_datagen = ImageDataGenerator(rescale=1./255)\n",
    "\n",
    "# Train generator\n",
    "train_generator = train_datagen.flow_from_dataframe(\n",
    "dataframe=train_meta,\n",
    "directory='.',\n",
    "x_col='Image_path',\n",
    "y_col='label',\n",
    "target_size=(128, 128),\n",
    "batch_size=32,\n",
    "class_mode='categorical'\n",
    ")\n",
    "\n",
    "# Validation generator\n",
    "val_generator = test_datagen.flow_from_dataframe(\n",
    "dataframe=val_meta,\n",
    "directory='.',\n",
    "x_col='Image_path',\n",
    "y_col='label',\n",
    "target_size=(128,128),\n",
    "batch_size=32,\n",
    "class_mode='categorical',\n",
    "shuffle=False\n",
    ")\n",
    "\n",
    "# Test generator\n",
    "test_generator = test_datagen.flow_from_dataframe(\n",
    "dataframe=test_meta,\n",
    "directory='.',\n",
    "x_col='Image_path',\n",
    "y_col='label',\n",
    "target_size=(128, 128),\n",
    "batch_size=32,\n",
    "class_mode='categorical',\n",
    "shuffle=False\n",
    ")"
   ]
  },
  {
   "cell_type": "code",
   "execution_count": 17,
   "metadata": {},
   "outputs": [],
   "source": [
    "base_model = tf.keras.applications.InceptionV3(input_shape=(128,128,3),\n",
    "                                               include_top=False,\n",
    "                                               weights='imagenet')"
   ]
  },
  {
   "cell_type": "code",
   "execution_count": 18,
   "metadata": {},
   "outputs": [],
   "source": [
    "for layer in base_model.layers:\n",
    "    layer.trainable = False"
   ]
  },
  {
   "cell_type": "code",
   "execution_count": 24,
   "metadata": {},
   "outputs": [],
   "source": [
    "global_average_layer = tf.keras.layers.GlobalAveragePooling2D()\n",
    "hidden_dense_layer_1 = tf.keras.layers.Dense(2048, activation='relu')\n",
    "prediction_layer = tf.keras.layers.Dense(7, activation='softmax')"
   ]
  },
  {
   "cell_type": "code",
   "execution_count": 25,
   "metadata": {},
   "outputs": [],
   "source": [
    "inputs = tf.keras.Input(shape=(128,128,3))\n",
    "x = base_model(inputs, training=False)\n",
    "x = global_average_layer(x)\n",
    "x = hidden_dense_layer_1(x)\n",
    "outputs = prediction_layer(x)\n",
    "model = tf.keras.Model(inputs, outputs)"
   ]
  },
  {
   "cell_type": "code",
   "execution_count": 33,
   "metadata": {},
   "outputs": [
    {
     "name": "stdout",
     "output_type": "stream",
     "text": [
      "Model: \"model\"\n",
      "_________________________________________________________________\n",
      " Layer (type)                Output Shape              Param #   \n",
      "=================================================================\n",
      " input_4 (InputLayer)        [(None, 128, 128, 3)]     0         \n"
     ]
    },
    {
     "name": "stdout",
     "output_type": "stream",
     "text": [
      "                                                                 \n",
      " inception_v3 (Functional)   (None, 2, 2, 2048)        21802784  \n",
      "                                                                 \n",
      " global_average_pooling2d_1   (None, 2048)             0         \n",
      " (GlobalAveragePooling2D)                                        \n",
      "                                                                 \n",
      " dense (Dense)               (None, 2048)              4196352   \n",
      "                                                                 \n",
      " dense_1 (Dense)             (None, 7)                 14343     \n",
      "                                                                 \n",
      "=================================================================\n",
      "Total params: 26,013,479\n",
      "Trainable params: 4,210,695\n",
      "Non-trainable params: 21,802,784\n",
      "_________________________________________________________________\n"
     ]
    }
   ],
   "source": [
    "model.compile(\n",
    "    optimizer='adam',\n",
    "    loss='categorical_crossentropy',\n",
    "    metrics=['accuracy']\n",
    ")\n",
    "model.summary()"
   ]
  },
  {
   "cell_type": "code",
   "execution_count": 10,
   "metadata": {},
   "outputs": [],
   "source": [
    "callbacks = tf.keras.callbacks.EarlyStopping(monitor='val_accuracy',\n",
    "                                            verbose =1,\n",
    "                                            mode ='max',\n",
    "                                            baseline=0.65,\n",
    "                                            restore_best_weights=True,\n",
    "                                            patience=15)"
   ]
  },
  {
   "cell_type": "code",
   "execution_count": 44,
   "metadata": {},
   "outputs": [
    {
     "name": "stdout",
     "output_type": "stream",
     "text": [
      "Epoch 1/50\n",
      "483/483 [==============================] - 197s 407ms/step - loss: 0.9083 - accuracy: 0.6569 - val_loss: 0.9303 - val_accuracy: 0.6463\n",
      "Epoch 2/50\n",
      "483/483 [==============================] - 201s 417ms/step - loss: 0.9079 - accuracy: 0.6577 - val_loss: 0.9037 - val_accuracy: 0.6484\n",
      "Epoch 3/50\n",
      "483/483 [==============================] - 201s 416ms/step - loss: 0.9018 - accuracy: 0.6574 - val_loss: 0.8332 - val_accuracy: 0.6895\n",
      "Epoch 4/50\n",
      "483/483 [==============================] - 190s 394ms/step - loss: 0.8938 - accuracy: 0.6602 - val_loss: 0.8323 - val_accuracy: 0.6874\n",
      "Epoch 5/50\n",
      "483/483 [==============================] - 192s 397ms/step - loss: 0.8897 - accuracy: 0.6682 - val_loss: 0.8375 - val_accuracy: 0.6822\n",
      "Epoch 6/50\n",
      "483/483 [==============================] - 192s 397ms/step - loss: 0.8878 - accuracy: 0.6669 - val_loss: 0.8783 - val_accuracy: 0.6738\n",
      "Epoch 7/50\n",
      "483/483 [==============================] - 192s 398ms/step - loss: 0.8708 - accuracy: 0.6687 - val_loss: 0.8363 - val_accuracy: 0.6869\n",
      "Epoch 8/50\n",
      "483/483 [==============================] - 192s 397ms/step - loss: 0.8646 - accuracy: 0.6685 - val_loss: 0.8324 - val_accuracy: 0.6892\n",
      "Epoch 9/50\n",
      "483/483 [==============================] - 191s 396ms/step - loss: 0.8621 - accuracy: 0.6759 - val_loss: 0.8368 - val_accuracy: 0.6779\n",
      "Epoch 10/50\n",
      "483/483 [==============================] - 190s 394ms/step - loss: 0.8562 - accuracy: 0.6731 - val_loss: 0.7985 - val_accuracy: 0.6961\n",
      "Epoch 11/50\n",
      "483/483 [==============================] - 191s 394ms/step - loss: 0.8558 - accuracy: 0.6757 - val_loss: 0.7927 - val_accuracy: 0.6936\n",
      "Epoch 12/50\n",
      "483/483 [==============================] - 190s 393ms/step - loss: 0.8335 - accuracy: 0.6822 - val_loss: 0.8247 - val_accuracy: 0.6844\n",
      "Epoch 13/50\n",
      "483/483 [==============================] - 190s 393ms/step - loss: 0.8463 - accuracy: 0.6819 - val_loss: 0.8054 - val_accuracy: 0.6972\n",
      "Epoch 14/50\n",
      "483/483 [==============================] - 190s 394ms/step - loss: 0.8454 - accuracy: 0.6753 - val_loss: 0.8228 - val_accuracy: 0.6949\n",
      "Epoch 15/50\n",
      "483/483 [==============================] - 190s 394ms/step - loss: 0.8414 - accuracy: 0.6838 - val_loss: 0.7991 - val_accuracy: 0.6974\n",
      "Epoch 16/50\n",
      "483/483 [==============================] - 190s 394ms/step - loss: 0.8359 - accuracy: 0.6831 - val_loss: 0.7981 - val_accuracy: 0.6980\n",
      "Epoch 17/50\n",
      "483/483 [==============================] - 191s 395ms/step - loss: 0.8210 - accuracy: 0.6921 - val_loss: 0.7779 - val_accuracy: 0.7094\n",
      "Epoch 18/50\n",
      "483/483 [==============================] - 190s 394ms/step - loss: 0.8266 - accuracy: 0.6875 - val_loss: 0.7574 - val_accuracy: 0.7123\n",
      "Epoch 19/50\n",
      "483/483 [==============================] - 190s 394ms/step - loss: 0.8103 - accuracy: 0.6916 - val_loss: 0.8207 - val_accuracy: 0.6971\n",
      "Epoch 20/50\n",
      "483/483 [==============================] - 190s 392ms/step - loss: 0.8000 - accuracy: 0.6965 - val_loss: 0.7791 - val_accuracy: 0.7085\n",
      "Epoch 21/50\n",
      "483/483 [==============================] - 190s 393ms/step - loss: 0.7950 - accuracy: 0.7009 - val_loss: 0.7790 - val_accuracy: 0.6966\n",
      "Epoch 22/50\n",
      "483/483 [==============================] - 190s 393ms/step - loss: 0.7949 - accuracy: 0.6972 - val_loss: 0.7811 - val_accuracy: 0.7004\n",
      "Epoch 23/50\n",
      "483/483 [==============================] - 190s 394ms/step - loss: 0.8003 - accuracy: 0.6965 - val_loss: 0.7873 - val_accuracy: 0.7073\n",
      "Epoch 24/50\n",
      "483/483 [==============================] - 190s 394ms/step - loss: 0.8112 - accuracy: 0.6949 - val_loss: 0.7763 - val_accuracy: 0.7063\n",
      "Epoch 25/50\n",
      "483/483 [==============================] - 191s 395ms/step - loss: 0.7991 - accuracy: 0.6987 - val_loss: 0.7417 - val_accuracy: 0.7161\n",
      "Epoch 26/50\n",
      "483/483 [==============================] - 190s 393ms/step - loss: 0.7914 - accuracy: 0.6990 - val_loss: 0.7479 - val_accuracy: 0.7153\n",
      "Epoch 27/50\n",
      "483/483 [==============================] - 190s 393ms/step - loss: 0.7905 - accuracy: 0.7033 - val_loss: 0.8007 - val_accuracy: 0.6889\n",
      "Epoch 28/50\n",
      "483/483 [==============================] - 190s 393ms/step - loss: 0.7910 - accuracy: 0.7049 - val_loss: 0.7794 - val_accuracy: 0.7146\n",
      "Epoch 29/50\n",
      "483/483 [==============================] - 192s 398ms/step - loss: 0.7832 - accuracy: 0.7058 - val_loss: 0.7307 - val_accuracy: 0.7217\n",
      "Epoch 30/50\n",
      "483/483 [==============================] - 191s 395ms/step - loss: 0.7756 - accuracy: 0.7092 - val_loss: 0.7508 - val_accuracy: 0.7206\n",
      "Epoch 31/50\n",
      "483/483 [==============================] - 190s 394ms/step - loss: 0.7833 - accuracy: 0.7043 - val_loss: 0.7639 - val_accuracy: 0.7150\n",
      "Epoch 32/50\n",
      "483/483 [==============================] - 190s 393ms/step - loss: 0.7771 - accuracy: 0.7059 - val_loss: 0.7311 - val_accuracy: 0.7246\n",
      "Epoch 33/50\n",
      "483/483 [==============================] - 190s 394ms/step - loss: 0.7876 - accuracy: 0.7050 - val_loss: 0.7308 - val_accuracy: 0.7231\n",
      "Epoch 34/50\n",
      "483/483 [==============================] - 191s 395ms/step - loss: 0.7697 - accuracy: 0.7123 - val_loss: 0.7619 - val_accuracy: 0.7069\n",
      "Epoch 35/50\n",
      "483/483 [==============================] - 190s 393ms/step - loss: 0.7572 - accuracy: 0.7149 - val_loss: 0.7195 - val_accuracy: 0.7262\n",
      "Epoch 36/50\n",
      "483/483 [==============================] - 190s 394ms/step - loss: 0.7687 - accuracy: 0.7118 - val_loss: 0.7201 - val_accuracy: 0.7283\n",
      "Epoch 37/50\n",
      "483/483 [==============================] - 189s 392ms/step - loss: 0.7743 - accuracy: 0.7090 - val_loss: 0.7513 - val_accuracy: 0.7131\n",
      "Epoch 38/50\n",
      "483/483 [==============================] - 191s 395ms/step - loss: 0.7647 - accuracy: 0.7145 - val_loss: 0.6965 - val_accuracy: 0.7478\n",
      "Epoch 39/50\n",
      "483/483 [==============================] - 190s 394ms/step - loss: 0.7666 - accuracy: 0.7108 - val_loss: 0.7215 - val_accuracy: 0.7308\n",
      "Epoch 40/50\n",
      "483/483 [==============================] - 190s 393ms/step - loss: 0.7564 - accuracy: 0.7162 - val_loss: 0.7042 - val_accuracy: 0.7326\n",
      "Epoch 41/50\n",
      "483/483 [==============================] - 189s 392ms/step - loss: 0.7615 - accuracy: 0.7102 - val_loss: 0.7338 - val_accuracy: 0.7314\n",
      "Epoch 42/50\n",
      "483/483 [==============================] - 189s 391ms/step - loss: 0.7552 - accuracy: 0.7152 - val_loss: 0.7056 - val_accuracy: 0.7380\n",
      "Epoch 43/50\n",
      "483/483 [==============================] - 191s 396ms/step - loss: 0.7541 - accuracy: 0.7138 - val_loss: 0.7211 - val_accuracy: 0.7291\n",
      "Epoch 44/50\n",
      "483/483 [==============================] - 190s 393ms/step - loss: 0.7531 - accuracy: 0.7162 - val_loss: 0.7309 - val_accuracy: 0.7341\n",
      "Epoch 45/50\n",
      "483/483 [==============================] - 188s 390ms/step - loss: 0.7427 - accuracy: 0.7176 - val_loss: 0.7072 - val_accuracy: 0.7327\n",
      "Epoch 46/50\n",
      "483/483 [==============================] - ETA: 0s - loss: 0.7562 - accuracy: 0.7124Restoring model weights from the end of the best epoch: 38.\n",
      "483/483 [==============================] - 189s 392ms/step - loss: 0.7562 - accuracy: 0.7124 - val_loss: 0.7453 - val_accuracy: 0.7226\n",
      "Epoch 46: early stopping\n"
     ]
    }
   ],
   "source": [
    "history = model.fit(\n",
    "  train_generator,\n",
    "  validation_data=val_generator,\n",
    "  callbacks=[callbacks],\n",
    "  epochs=50\n",
    ")"
   ]
  },
  {
   "cell_type": "code",
   "execution_count": 48,
   "metadata": {},
   "outputs": [],
   "source": [
    "model_version = max([int(i) for i in os.listdir(\"./models/\")+[0]])+1\n",
    "model.save(f\"./models/{model_version}.h5\")"
   ]
  },
  {
   "cell_type": "code",
   "execution_count": 9,
   "metadata": {},
   "outputs": [],
   "source": [
    "model = tf.keras.models.load_model('./models/2.h5')"
   ]
  },
  {
   "cell_type": "code",
   "execution_count": 11,
   "metadata": {},
   "outputs": [
    {
     "name": "stdout",
     "output_type": "stream",
     "text": [
      "Epoch 1/50\n",
      "483/483 [==============================] - 207s 412ms/step - loss: 0.7612 - accuracy: 0.7162 - val_loss: 0.7113 - val_accuracy: 0.7326\n",
      "Epoch 2/50\n",
      "483/483 [==============================] - 206s 426ms/step - loss: 0.7666 - accuracy: 0.7104 - val_loss: 0.7955 - val_accuracy: 0.7064\n",
      "Epoch 3/50\n",
      "483/483 [==============================] - 226s 469ms/step - loss: 0.7676 - accuracy: 0.7131 - val_loss: 0.7279 - val_accuracy: 0.7270\n",
      "Epoch 4/50\n",
      "483/483 [==============================] - 188s 389ms/step - loss: 0.7506 - accuracy: 0.7186 - val_loss: 0.7433 - val_accuracy: 0.7122\n",
      "Epoch 5/50\n",
      "483/483 [==============================] - 188s 390ms/step - loss: 0.7452 - accuracy: 0.7177 - val_loss: 0.7449 - val_accuracy: 0.7184\n",
      "Epoch 6/50\n",
      "483/483 [==============================] - 189s 391ms/step - loss: 0.7500 - accuracy: 0.7186 - val_loss: 0.7100 - val_accuracy: 0.7344\n",
      "Epoch 7/50\n",
      "483/483 [==============================] - 192s 398ms/step - loss: 0.7528 - accuracy: 0.7189 - val_loss: 0.7264 - val_accuracy: 0.7206\n",
      "Epoch 8/50\n",
      "483/483 [==============================] - 200s 414ms/step - loss: 0.7516 - accuracy: 0.7108 - val_loss: 0.7166 - val_accuracy: 0.7237\n",
      "Epoch 9/50\n",
      "483/483 [==============================] - 196s 405ms/step - loss: 0.7468 - accuracy: 0.7198 - val_loss: 0.7253 - val_accuracy: 0.7172\n",
      "Epoch 10/50\n",
      "483/483 [==============================] - 190s 394ms/step - loss: 0.7452 - accuracy: 0.7182 - val_loss: 0.7042 - val_accuracy: 0.7354\n",
      "Epoch 11/50\n",
      "483/483 [==============================] - 191s 395ms/step - loss: 0.7437 - accuracy: 0.7202 - val_loss: 0.6905 - val_accuracy: 0.7395\n",
      "Epoch 12/50\n",
      "483/483 [==============================] - 188s 389ms/step - loss: 0.7496 - accuracy: 0.7173 - val_loss: 0.7461 - val_accuracy: 0.7215\n",
      "Epoch 13/50\n",
      "483/483 [==============================] - 188s 389ms/step - loss: 0.7428 - accuracy: 0.7223 - val_loss: 0.7180 - val_accuracy: 0.7409\n",
      "Epoch 14/50\n",
      "483/483 [==============================] - 188s 389ms/step - loss: 0.7486 - accuracy: 0.7210 - val_loss: 0.7544 - val_accuracy: 0.7164\n",
      "Epoch 15/50\n",
      "483/483 [==============================] - 187s 387ms/step - loss: 0.7423 - accuracy: 0.7162 - val_loss: 0.7498 - val_accuracy: 0.7330\n",
      "Epoch 16/50\n",
      "483/483 [==============================] - 187s 387ms/step - loss: 0.7293 - accuracy: 0.7196 - val_loss: 0.7183 - val_accuracy: 0.7267\n",
      "Epoch 17/50\n",
      "483/483 [==============================] - 187s 388ms/step - loss: 0.7302 - accuracy: 0.7269 - val_loss: 0.6804 - val_accuracy: 0.7423\n",
      "Epoch 18/50\n",
      "483/483 [==============================] - 187s 386ms/step - loss: 0.7380 - accuracy: 0.7229 - val_loss: 0.7040 - val_accuracy: 0.7338\n",
      "Epoch 19/50\n",
      "483/483 [==============================] - 187s 387ms/step - loss: 0.7335 - accuracy: 0.7271 - val_loss: 0.7099 - val_accuracy: 0.7368\n",
      "Epoch 20/50\n",
      "483/483 [==============================] - 187s 387ms/step - loss: 0.7340 - accuracy: 0.7240 - val_loss: 0.7413 - val_accuracy: 0.7305\n",
      "Epoch 21/50\n",
      "483/483 [==============================] - 186s 386ms/step - loss: 0.7199 - accuracy: 0.7276 - val_loss: 0.7420 - val_accuracy: 0.7376\n",
      "Epoch 22/50\n",
      "483/483 [==============================] - 186s 386ms/step - loss: 0.7139 - accuracy: 0.7344 - val_loss: 0.7181 - val_accuracy: 0.7305\n",
      "Epoch 23/50\n",
      "483/483 [==============================] - 186s 386ms/step - loss: 0.7304 - accuracy: 0.7263 - val_loss: 0.7032 - val_accuracy: 0.7351\n",
      "Epoch 24/50\n",
      "483/483 [==============================] - 187s 387ms/step - loss: 0.7311 - accuracy: 0.7259 - val_loss: 0.7212 - val_accuracy: 0.7358\n",
      "Epoch 25/50\n",
      "483/483 [==============================] - 187s 387ms/step - loss: 0.7170 - accuracy: 0.7294 - val_loss: 0.6944 - val_accuracy: 0.7398\n",
      "Epoch 26/50\n",
      "483/483 [==============================] - 187s 386ms/step - loss: 0.7248 - accuracy: 0.7276 - val_loss: 0.6992 - val_accuracy: 0.7386\n",
      "Epoch 27/50\n",
      "483/483 [==============================] - 187s 386ms/step - loss: 0.7121 - accuracy: 0.7311 - val_loss: 0.7124 - val_accuracy: 0.7320\n",
      "Epoch 28/50\n",
      "483/483 [==============================] - 187s 386ms/step - loss: 0.7299 - accuracy: 0.7296 - val_loss: 0.7170 - val_accuracy: 0.7368\n",
      "Epoch 29/50\n",
      "483/483 [==============================] - 187s 387ms/step - loss: 0.7088 - accuracy: 0.7360 - val_loss: 0.6904 - val_accuracy: 0.7359\n",
      "Epoch 30/50\n",
      "483/483 [==============================] - 187s 387ms/step - loss: 0.7093 - accuracy: 0.7346 - val_loss: 0.6794 - val_accuracy: 0.7391\n",
      "Epoch 31/50\n",
      "483/483 [==============================] - 187s 387ms/step - loss: 0.7099 - accuracy: 0.7327 - val_loss: 0.7149 - val_accuracy: 0.7359\n",
      "Epoch 32/50\n",
      "483/483 [==============================] - ETA: 0s - loss: 0.7160 - accuracy: 0.7310Restoring model weights from the end of the best epoch: 17.\n",
      "483/483 [==============================] - 187s 387ms/step - loss: 0.7160 - accuracy: 0.7310 - val_loss: 0.7247 - val_accuracy: 0.7303\n",
      "Epoch 32: early stopping\n"
     ]
    }
   ],
   "source": [
    "history = model.fit(\n",
    "  train_generator,\n",
    "  validation_data=val_generator,\n",
    "  callbacks=[callbacks],\n",
    "  epochs=50\n",
    ")"
   ]
  }
 ],
 "metadata": {
  "kernelspec": {
   "display_name": "ML_GPU",
   "language": "python",
   "name": "python3"
  },
  "language_info": {
   "codemirror_mode": {
    "name": "ipython",
    "version": 3
   },
   "file_extension": ".py",
   "mimetype": "text/x-python",
   "name": "python",
   "nbconvert_exporter": "python",
   "pygments_lexer": "ipython3",
   "version": "3.10.14"
  }
 },
 "nbformat": 4,
 "nbformat_minor": 2
}
